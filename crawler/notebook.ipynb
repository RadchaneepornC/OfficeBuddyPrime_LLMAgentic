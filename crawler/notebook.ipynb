{
 "cells": [
  {
   "cell_type": "code",
   "execution_count": null,
   "id": "e2e376cf3248bdb0",
   "metadata": {
    "ExecuteTime": {
     "end_time": "2025-04-20T17:55:59.044374Z",
     "start_time": "2025-04-20T17:55:57.603502Z"
    }
   },
   "outputs": [],
   "source": [
    "from __future__ import annotations\n",
    "from dataclasses import dataclass\n",
    "from typing import List, Dict, Optional\n",
    "from urllib.parse import urljoin\n",
    "from pprint import pprint\n",
    "import re\n",
    "import numpy as np\n",
    "import pandas as pd\n",
    "\n",
    "import requests\n",
    "from bs4 import BeautifulSoup, Tag\n"
   ]
  },
  {
   "cell_type": "code",
   "execution_count": 22,
   "id": "7281a48ad690cc94",
   "metadata": {
    "ExecuteTime": {
     "end_time": "2025-04-20T17:56:01.856840Z",
     "start_time": "2025-04-20T17:56:00.142648Z"
    }
   },
   "outputs": [
    {
     "name": "stdout",
     "output_type": "stream",
     "text": [
      "{'answer': 'ผู้มีหน้าที่เสียภาษีเงินได้บุคคลธรรมดา ได้แก่ '\n",
      "           'ผู้ที่มีเงินได้เกิดขึ้นระหว่างปีที่ผ่านมาโดยมีสถานะ '\n",
      "           'อย่างหนึ่งอย่างใด ดังนี้ 1) บุคคลธรรมดา 2) '\n",
      "           'ห้างหุ้นส่วนสามัญหรือคณะบุคคลที่มิใช่นิติบุคคล 3) '\n",
      "           'ผู้ถึงแก่ความตายระหว่างปีภาษี 4) กองมรดกที่ยังไม่ได้แบ่ง 5) '\n",
      "           'วิสาหกิจชุมชน ตามกฎหมายว่าด้วยการส่งเสริมวิสาหกิจชุมชน '\n",
      "           'เฉพาะที่เป็นห้างหุ้นส่วนสามัญ หรือคณะบุคคลที่มิใช่นิติบุคคล '\n",
      "           'ปรับปรุงล่าสุด: 21-11-2020',\n",
      " 'context': 'บุคคลธรรมดา ความรู้เรื่องภาษี ภาษีเงินได้บุคคลธรรมดา '\n",
      "            'ใครมีหน้าที่เสียภาษีเงินได้บุคคลธรรมดา '\n",
      "            'ใครมีหน้าที่เสียภาษีเงินได้บุคคลธรรมดา ภาษีเงินได้บุคคลธรรมดา '\n",
      "            'ใครมีหน้าที่เสียภาษีเงินได้บุคคลธรรมดา '\n",
      "            'เมื่อมีเงินได้เกิดขึ้นแล้วผู้มีหน้าที่เสียภาษีจะต้องทำอะไรบ้าง '\n",
      "            'เงินได้อะไรบ้างที่ต้องเสียภาษี '\n",
      "            'ผู้ที่มีเงินได้เกิดขึ้นในระหว่างปีภาษีมีหน้าที่ต้องยื่นแบบฯ '\n",
      "            'เสียภาษีเงินได้บุคคลธรรมดาทุกกรณีหรือไม่ '\n",
      "            'เงินได้อันเป็นเหตุให้ต้องนำไปรวมคำนวณภาษีมาจากแหล่งใดบ้าง '\n",
      "            'ประเภทเงินได้ที่ต้องเสียภาษี ประเภทเงินได้ที่ได้รับยกเว้นภาษี '\n",
      "            'วิธีการคำนวณภาษีเงินได้บุคคลธรรมดาสิ้นปี การหักค่าใช้จ่าย '\n",
      "            'การหักลดหย่อน กำหนดเวลายื่นแบบ สถานที่ยื่นแบบแสดงรายการ '\n",
      "            'วิธีการชำระภาษี กรณีไม่ชำระภาษีตามกำหนดเวลา อัตราภาษี '\n",
      "            'การบริจาคเงินภาษีให้แก่พรรคการเมือง การขอผ่อนชำระภาษี '\n",
      "            'การขอคืนเงินภาษีอากร ข้อคิดสะกิดใจการยื่นแบบ ภ.ง.ด.90,91 '\n",
      "            'ใครมีหน้าที่เสียภาษีเงินได้บุคคลธรรมดา? '\n",
      "            'ผู้มีหน้าที่เสียภาษีเงินได้บุคคลธรรมดา ได้แก่ '\n",
      "            'ผู้ที่มีเงินได้เกิดขึ้นระหว่างปีที่ผ่านมาโดยมีสถานะ '\n",
      "            'อย่างหนึ่งอย่างใด ดังนี้ 1) บุคคลธรรมดา 2) '\n",
      "            'ห้างหุ้นส่วนสามัญหรือคณะบุคคลที่มิใช่นิติบุคคล 3) '\n",
      "            'ผู้ถึงแก่ความตายระหว่างปีภาษี 4) กองมรดกที่ยังไม่ได้แบ่ง 5) '\n",
      "            'วิสาหกิจชุมชน ตามกฎหมายว่าด้วยการส่งเสริมวิสาหกิจชุมชน '\n",
      "            'เฉพาะที่เป็นห้างหุ้นส่วนสามัญ หรือคณะบุคคลที่มิใช่นิติบุคคล '\n",
      "            'ปรับปรุงล่าสุด: 21-11-2020',\n",
      " 'question': 'ใครมีหน้าที่เสียภาษีเงินได้บุคคลธรรมดา?'}\n"
     ]
    }
   ],
   "source": [
    "@dataclass(frozen=True, slots=True)\n",
    "class QARecord:\n",
    "    context: str\n",
    "    question: str = \"\"\n",
    "    answer: str = \"\"\n",
    "\n",
    "    def as_dict(self) -> Dict[str, str]:\n",
    "        return {\"context\": self.context, \"question\": self.question, \"answer\": self.answer}\n",
    "\n",
    "\n",
    "def crawl_rd_tax(entry_url: str = \"https://www.rd.go.th/548.html\",\n",
    "                 timeout: int = 15) -> List[Dict[str, str]]:\n",
    "    \"\"\"\n",
    "    Crawl the RD (Thai Revenue Department) knowledge‑base starting from *entry_url*.\n",
    "    For every link in the left‑hand nested sidebar, fetch the page and return a list\n",
    "    of dicts shaped ⟨context, question, answer⟩.  Sidebar detection and content\n",
    "    extraction are heuristic but resilient to layout changes.\n",
    "\n",
    "    :param entry_url: The first page that hosts the sidebar to walk.\n",
    "    :param timeout:   HTTP timeout (seconds) for each request.\n",
    "    :return:          List of dictionaries ready for downstream RAG pipelines.\n",
    "    \"\"\"\n",
    "    sess = requests.Session()\n",
    "    root_soup = _get_soup(sess, entry_url, timeout)\n",
    "\n",
    "    # 1 ▶ Collect sidebar links (unique, in order of appearance)\n",
    "    sidebar = _locate_sidebar(root_soup)\n",
    "    links = [\n",
    "        urljoin(entry_url, a[\"href\"])\n",
    "        for a in sidebar.select(\"a[href]\")\n",
    "        if a[\"href\"].endswith(\".html\")\n",
    "    ]\n",
    "    seen: set[str] = set()\n",
    "    unique_links = [u for u in links if not (u in seen or seen.add(u))]\n",
    "\n",
    "    # 2 ▶ Walk each page and harvest\n",
    "    records: List[QARecord] = []\n",
    "    for url in unique_links:\n",
    "        try:\n",
    "            page_soup = _get_soup(sess, url, timeout)\n",
    "            rec = _extract_record(page_soup)\n",
    "            records.append(rec)\n",
    "        except Exception:\n",
    "            # Fail fast but leave a breadcrumb for post‑mortem\n",
    "            records.append(QARecord(context=f\"[ERROR] Could not crawl {url}\"))\n",
    "\n",
    "    return [r.as_dict() for r in records]\n",
    "\n",
    "\n",
    "# ──────────── internal helpers ──────────── #\n",
    "\n",
    "def _get_soup(sess: requests.Session, url: str, timeout: int) -> BeautifulSoup:\n",
    "    resp = sess.get(url, timeout=timeout, headers={\"User-Agent\": \"Mozilla/5.0\"})\n",
    "    resp.raise_for_status()\n",
    "    return BeautifulSoup(resp.text, \"lxml\")\n",
    "\n",
    "\n",
    "def _locate_sidebar(soup: BeautifulSoup) -> Tag:\n",
    "    \"\"\"\n",
    "    RD pages put the topic tree in the first UL with at least ten <li>.\n",
    "    This works for every tax‑knowledge page tested (e.g. 548.html, 549.html).\n",
    "    \"\"\"\n",
    "    for ul in soup.find_all(\"ul\"):\n",
    "        if len(ul.find_all(\"li\")) >= 10:\n",
    "            return ul\n",
    "    raise RuntimeError(\"Sidebar menu not found – page layout may have changed.\")\n",
    "\n",
    "\n",
    "_WHITESPACE_RE = re.compile(r\"\\s+\")\n",
    "\n",
    "def _norm(text: str) -> str:\n",
    "    \"\"\"\n",
    "    Replace NBSP with a regular space and collapse runs of whitespace.\n",
    "    \"\"\"\n",
    "    return _WHITESPACE_RE.sub(\" \", text.replace(\"\\u00A0\", \" \")).strip()\n",
    "\n",
    "def _extract_record(soup: BeautifulSoup) -> QARecord:\n",
    "    # Question → the first H1/H2/H3 tag (pages often use H3)\n",
    "    heading_tag: Optional[Tag] = next(\n",
    "        (soup.find(tag) for tag in (\"h1\", \"h2\", \"h3\") if soup.find(tag)), None\n",
    "    )\n",
    "\n",
    "    question = _norm(heading_tag.get_text(strip=True)) if heading_tag else \"\"\n",
    "\n",
    "    # Context → pick the largest <article>, <section>, or <div> block by text length\n",
    "    candidate_blocks = soup.find_all([\"article\", \"section\", \"div\"], recursive=True)\n",
    "    main_block = max(candidate_blocks, key=lambda t: len(t.get_text(\" \", strip=True)))\n",
    "    full_text = _norm(main_block.get_text(\" \", strip=True))\n",
    "\n",
    "    # Answer → body minus heading (if present and non‑trivial), else blank\n",
    "    answer = \"\"\n",
    "    if question and question in full_text:\n",
    "        answer = _norm(full_text.split(question, 1)[1].lstrip(\" :–-\"))\n",
    "    else:\n",
    "        # No clean split; treat entire text as context only\n",
    "        return QARecord(context=full_text)\n",
    "\n",
    "    return QARecord(context=full_text, question=question, answer=answer)\n",
    "\n",
    "if __name__ == \"__main__\":\n",
    "    data = crawl_rd_tax()\n",
    "    pprint(data[0])\n"
   ]
  },
  {
   "cell_type": "code",
   "execution_count": null,
   "id": "408af0977aae8a9c",
   "metadata": {
    "ExecuteTime": {
     "end_time": "2025-04-20T17:57:45.425698Z",
     "start_time": "2025-04-20T17:57:45.402954Z"
    }
   },
   "outputs": [],
   "source": ""
  },
  {
   "cell_type": "code",
   "id": "2737a949c000eb5d",
   "metadata": {
    "ExecuteTime": {
     "end_time": "2025-04-20T18:02:05.172987Z",
     "start_time": "2025-04-20T18:02:05.119670Z"
    }
   },
   "source": [
    "df = pd.DataFrame(data)\n",
    "\n",
    "# Reorder the columns as desired and rename 'answer' to 'output'\n",
    "ordered_df = df[['question', 'context', 'answer']].rename(columns={'answer': 'output'})\n",
    "\n",
    "# Export the resulting DataFrame to CSV without the index\n",
    "ordered_df.to_csv('data-ordered.csv', index=False)"
   ],
   "outputs": [],
   "execution_count": 26
  }
 ],
 "metadata": {
  "kernelspec": {
   "display_name": "venv",
   "language": "python",
   "name": "python3"
  },
  "language_info": {
   "codemirror_mode": {
    "name": "ipython",
    "version": 3
   },
   "file_extension": ".py",
   "mimetype": "text/x-python",
   "name": "python",
   "nbconvert_exporter": "python",
   "pygments_lexer": "ipython3",
   "version": "3.11.11"
  }
 },
 "nbformat": 4,
 "nbformat_minor": 5
}
