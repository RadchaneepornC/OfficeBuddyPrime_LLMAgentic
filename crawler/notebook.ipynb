{
 "cells": [
  {
   "cell_type": "code",
   "id": "e2e376cf3248bdb0",
   "metadata": {
    "ExecuteTime": {
     "end_time": "2025-04-21T03:23:22.036445Z",
     "start_time": "2025-04-21T03:23:21.589264Z"
    }
   },
   "source": [
    "from __future__ import annotations\n",
    "from dataclasses import dataclass\n",
    "from typing import List, Dict, Optional\n",
    "from urllib.parse import urljoin\n",
    "from pprint import pprint\n",
    "import re\n",
    "import pandas as pd\n",
    "\n",
    "import requests\n",
    "from bs4 import BeautifulSoup, Tag\n"
   ],
   "outputs": [],
   "execution_count": 1
  },
  {
   "cell_type": "code",
   "id": "7281a48ad690cc94",
   "metadata": {
    "ExecuteTime": {
     "end_time": "2025-04-21T03:33:38.159004Z",
     "start_time": "2025-04-21T03:31:02.447474Z"
    }
   },
   "source": [
    "@dataclass(frozen=True, slots=True)\n",
    "class QARecord:\n",
    "    context: str\n",
    "    question: str = \"\"\n",
    "    answer: str = \"\"\n",
    "\n",
    "    def as_dict(self) -> Dict[str, str]:\n",
    "        return {\"context\": self.context, \"question\": self.question, \"answer\": self.answer}\n",
    "\n",
    "\n",
    "def crawl_rd_tax(entry_url: str = \"https://www.rd.go.th/548.html\",\n",
    "                 timeout: int = 15) -> List[Dict[str, str]]:\n",
    "    \"\"\"\n",
    "    Crawl the RD (Thai Revenue Department) knowledge‑base starting from *entry_url*.\n",
    "    For every link in the left‑hand nested sidebar, fetch the page and return a list\n",
    "    of dicts shaped ⟨context, question, answer⟩.  Sidebar detection and content\n",
    "    extraction are heuristic but resilient to layout changes.\n",
    "\n",
    "    :param entry_url: The first page that hosts the sidebar to walk.\n",
    "    :param timeout:   HTTP timeout (seconds) for each request.\n",
    "    :return:          List of dictionaries ready for downstream RAG pipelines.\n",
    "    \"\"\"\n",
    "    sess = requests.Session()\n",
    "    root_soup = _get_soup(sess, entry_url, timeout)\n",
    "\n",
    "    # 1 ▶ Collect sidebar links (unique, in order of appearance)\n",
    "    sidebar = _locate_sidebar(root_soup)\n",
    "    links = [\n",
    "        urljoin(entry_url, a[\"href\"])\n",
    "        for a in sidebar.select(\"a[href]\")\n",
    "        if a[\"href\"].endswith(\".html\")\n",
    "    ]\n",
    "    seen: set[str] = set()\n",
    "    unique_links = [u for u in links if not (u in seen or seen.add(u))]\n",
    "\n",
    "    # 2 ▶ Walk each page and harvest\n",
    "    records: List[QARecord] = []\n",
    "    for url in unique_links:\n",
    "        try:\n",
    "            page_soup = _get_soup(sess, url, timeout)\n",
    "            rec = _extract_record(page_soup)\n",
    "            records.append(rec)\n",
    "        except Exception:\n",
    "            # Fail fast but leave a breadcrumb for post‑mortem\n",
    "            records.append(QARecord(context=f\"[ERROR] Could not crawl {url}\"))\n",
    "\n",
    "    return [r.as_dict() for r in records]\n",
    "\n",
    "\n",
    "# ──────────── internal helpers ──────────── #\n",
    "\n",
    "def _get_soup(sess: requests.Session, url: str, timeout: int) -> BeautifulSoup:\n",
    "    resp = sess.get(url, timeout=timeout, headers={\"User-Agent\": \"Mozilla/5.0\"})\n",
    "    resp.raise_for_status()\n",
    "    return BeautifulSoup(resp.text, \"lxml\")\n",
    "\n",
    "\n",
    "def _locate_sidebar(soup: BeautifulSoup) -> Tag:\n",
    "    \"\"\"\n",
    "    RD pages put the topic tree in the first UL with at least ten <li>.\n",
    "    This works for every tax‑knowledge page tested (e.g. 548.html, 549.html).\n",
    "    \"\"\"\n",
    "    for ul in soup.select(\"list-menu\"):\n",
    "        if len(ul.find_all(\"li\")) >= 10:\n",
    "            return ul\n",
    "    raise RuntimeError(\"Sidebar menu not found – page layout may have changed.\")\n",
    "\n",
    "\n",
    "_WHITESPACE_RE = re.compile(r\"\\s+\")\n",
    "\n",
    "\n",
    "def _norm(text: str) -> str:\n",
    "    \"\"\"\n",
    "    Replace NBSP with a regular space and collapse runs of whitespace.\n",
    "    \"\"\"\n",
    "    return _WHITESPACE_RE.sub(\" \", text.replace(\"\\u00A0\", \" \")).strip()\n",
    "\n",
    "\n",
    "def _extract_record(soup: BeautifulSoup) -> QARecord:\n",
    "    # Question → the first H1/H2/H3 tag (pages often use H3)\n",
    "    heading_tag: Optional[Tag] = next(\n",
    "        (soup.find(tag) for tag in (\"h1\", \"h2\", \"h3\") if soup.find(tag)), None\n",
    "    )\n",
    "\n",
    "    question = _norm(heading_tag.get_text(strip=True)) if heading_tag else \"\"\n",
    "\n",
    "    # Context → pick the largest <article>, <section>, or <div> block by text length\n",
    "    candidate_blocks = soup.find_all([\"article\", \"section\", \"div\"], recursive=True)\n",
    "    main_block = max(candidate_blocks, key=lambda t: len(t.get_text(\" \", strip=True)))\n",
    "    full_text = _norm(main_block.get_text(\" \", strip=True))\n",
    "\n",
    "    # Answer → body minus heading (if present and non‑trivial), else blank\n",
    "    answer = \"\"\n",
    "    if question and question in full_text:\n",
    "        answer = _norm(full_text.split(question, 1)[1].lstrip(\" :–-\"))\n",
    "    else:\n",
    "        # No clean split; treat entire text as context only\n",
    "        return QARecord(context=full_text)\n",
    "\n",
    "    return QARecord(context=full_text, question=question, answer=answer)\n",
    "\n",
    "\n",
    "if __name__ == \"__main__\":\n",
    "    data = crawl_rd_tax()\n",
    "    pprint(data[0])\n"
   ],
   "outputs": [
    {
     "ename": "KeyboardInterrupt",
     "evalue": "",
     "output_type": "error",
     "traceback": [
      "\u001B[31m---------------------------------------------------------------------------\u001B[39m",
      "\u001B[31mKeyboardInterrupt\u001B[39m                         Traceback (most recent call last)",
      "\u001B[36mCell\u001B[39m\u001B[36m \u001B[39m\u001B[32mIn[6]\u001B[39m\u001B[32m, line 104\u001B[39m\n\u001B[32m    100\u001B[39m     \u001B[38;5;28;01mreturn\u001B[39;00m QARecord(context=full_text, question=question, answer=answer)\n\u001B[32m    103\u001B[39m \u001B[38;5;28;01mif\u001B[39;00m \u001B[34m__name__\u001B[39m == \u001B[33m\"\u001B[39m\u001B[33m__main__\u001B[39m\u001B[33m\"\u001B[39m:\n\u001B[32m--> \u001B[39m\u001B[32m104\u001B[39m     data = \u001B[43mcrawl_rd_tax\u001B[49m\u001B[43m(\u001B[49m\u001B[43m)\u001B[49m\n\u001B[32m    105\u001B[39m     pprint(data[\u001B[32m0\u001B[39m])\n",
      "\u001B[36mCell\u001B[39m\u001B[36m \u001B[39m\u001B[32mIn[6]\u001B[39m\u001B[32m, line 40\u001B[39m, in \u001B[36mcrawl_rd_tax\u001B[39m\u001B[34m(entry_url, timeout)\u001B[39m\n\u001B[32m     38\u001B[39m \u001B[38;5;28;01mfor\u001B[39;00m url \u001B[38;5;129;01min\u001B[39;00m unique_links:\n\u001B[32m     39\u001B[39m     \u001B[38;5;28;01mtry\u001B[39;00m:\n\u001B[32m---> \u001B[39m\u001B[32m40\u001B[39m         page_soup = \u001B[43m_get_soup\u001B[49m\u001B[43m(\u001B[49m\u001B[43msess\u001B[49m\u001B[43m,\u001B[49m\u001B[43m \u001B[49m\u001B[43murl\u001B[49m\u001B[43m,\u001B[49m\u001B[43m \u001B[49m\u001B[43mtimeout\u001B[49m\u001B[43m)\u001B[49m\n\u001B[32m     41\u001B[39m         rec = _extract_record(page_soup)\n\u001B[32m     42\u001B[39m         records.append(rec)\n",
      "\u001B[36mCell\u001B[39m\u001B[36m \u001B[39m\u001B[32mIn[6]\u001B[39m\u001B[32m, line 53\u001B[39m, in \u001B[36m_get_soup\u001B[39m\u001B[34m(sess, url, timeout)\u001B[39m\n\u001B[32m     52\u001B[39m \u001B[38;5;28;01mdef\u001B[39;00m\u001B[38;5;250m \u001B[39m\u001B[34m_get_soup\u001B[39m(sess: requests.Session, url: \u001B[38;5;28mstr\u001B[39m, timeout: \u001B[38;5;28mint\u001B[39m) -> BeautifulSoup:\n\u001B[32m---> \u001B[39m\u001B[32m53\u001B[39m     resp = \u001B[43msess\u001B[49m\u001B[43m.\u001B[49m\u001B[43mget\u001B[49m\u001B[43m(\u001B[49m\u001B[43murl\u001B[49m\u001B[43m,\u001B[49m\u001B[43m \u001B[49m\u001B[43mtimeout\u001B[49m\u001B[43m=\u001B[49m\u001B[43mtimeout\u001B[49m\u001B[43m,\u001B[49m\u001B[43m \u001B[49m\u001B[43mheaders\u001B[49m\u001B[43m=\u001B[49m\u001B[43m{\u001B[49m\u001B[33;43m\"\u001B[39;49m\u001B[33;43mUser-Agent\u001B[39;49m\u001B[33;43m\"\u001B[39;49m\u001B[43m:\u001B[49m\u001B[43m \u001B[49m\u001B[33;43m\"\u001B[39;49m\u001B[33;43mMozilla/5.0\u001B[39;49m\u001B[33;43m\"\u001B[39;49m\u001B[43m}\u001B[49m\u001B[43m)\u001B[49m\n\u001B[32m     54\u001B[39m     resp.raise_for_status()\n\u001B[32m     55\u001B[39m     \u001B[38;5;28;01mreturn\u001B[39;00m BeautifulSoup(resp.text, \u001B[33m\"\u001B[39m\u001B[33mlxml\u001B[39m\u001B[33m\"\u001B[39m)\n",
      "\u001B[36mFile \u001B[39m\u001B[32m~/Projects/CU/2110572-NLP-Systems/OfficeBuddyPrime_LLMAgentic/venv/lib/python3.11/site-packages/requests/sessions.py:602\u001B[39m, in \u001B[36mSession.get\u001B[39m\u001B[34m(self, url, **kwargs)\u001B[39m\n\u001B[32m    594\u001B[39m \u001B[38;5;250m\u001B[39m\u001B[33mr\u001B[39m\u001B[33;03m\"\"\"Sends a GET request. Returns :class:`Response` object.\u001B[39;00m\n\u001B[32m    595\u001B[39m \n\u001B[32m    596\u001B[39m \u001B[33;03m:param url: URL for the new :class:`Request` object.\u001B[39;00m\n\u001B[32m    597\u001B[39m \u001B[33;03m:param \\*\\*kwargs: Optional arguments that ``request`` takes.\u001B[39;00m\n\u001B[32m    598\u001B[39m \u001B[33;03m:rtype: requests.Response\u001B[39;00m\n\u001B[32m    599\u001B[39m \u001B[33;03m\"\"\"\u001B[39;00m\n\u001B[32m    601\u001B[39m kwargs.setdefault(\u001B[33m\"\u001B[39m\u001B[33mallow_redirects\u001B[39m\u001B[33m\"\u001B[39m, \u001B[38;5;28;01mTrue\u001B[39;00m)\n\u001B[32m--> \u001B[39m\u001B[32m602\u001B[39m \u001B[38;5;28;01mreturn\u001B[39;00m \u001B[38;5;28;43mself\u001B[39;49m\u001B[43m.\u001B[49m\u001B[43mrequest\u001B[49m\u001B[43m(\u001B[49m\u001B[33;43m\"\u001B[39;49m\u001B[33;43mGET\u001B[39;49m\u001B[33;43m\"\u001B[39;49m\u001B[43m,\u001B[49m\u001B[43m \u001B[49m\u001B[43murl\u001B[49m\u001B[43m,\u001B[49m\u001B[43m \u001B[49m\u001B[43m*\u001B[49m\u001B[43m*\u001B[49m\u001B[43mkwargs\u001B[49m\u001B[43m)\u001B[49m\n",
      "\u001B[36mFile \u001B[39m\u001B[32m~/Projects/CU/2110572-NLP-Systems/OfficeBuddyPrime_LLMAgentic/venv/lib/python3.11/site-packages/requests/sessions.py:575\u001B[39m, in \u001B[36mSession.request\u001B[39m\u001B[34m(self, method, url, params, data, headers, cookies, files, auth, timeout, allow_redirects, proxies, hooks, stream, verify, cert, json)\u001B[39m\n\u001B[32m    562\u001B[39m \u001B[38;5;66;03m# Create the Request.\u001B[39;00m\n\u001B[32m    563\u001B[39m req = Request(\n\u001B[32m    564\u001B[39m     method=method.upper(),\n\u001B[32m    565\u001B[39m     url=url,\n\u001B[32m   (...)\u001B[39m\u001B[32m    573\u001B[39m     hooks=hooks,\n\u001B[32m    574\u001B[39m )\n\u001B[32m--> \u001B[39m\u001B[32m575\u001B[39m prep = \u001B[38;5;28;43mself\u001B[39;49m\u001B[43m.\u001B[49m\u001B[43mprepare_request\u001B[49m\u001B[43m(\u001B[49m\u001B[43mreq\u001B[49m\u001B[43m)\u001B[49m\n\u001B[32m    577\u001B[39m proxies = proxies \u001B[38;5;129;01mor\u001B[39;00m {}\n\u001B[32m    579\u001B[39m settings = \u001B[38;5;28mself\u001B[39m.merge_environment_settings(\n\u001B[32m    580\u001B[39m     prep.url, proxies, stream, verify, cert\n\u001B[32m    581\u001B[39m )\n",
      "\u001B[36mFile \u001B[39m\u001B[32m~/Projects/CU/2110572-NLP-Systems/OfficeBuddyPrime_LLMAgentic/venv/lib/python3.11/site-packages/requests/sessions.py:481\u001B[39m, in \u001B[36mSession.prepare_request\u001B[39m\u001B[34m(self, request)\u001B[39m\n\u001B[32m    479\u001B[39m auth = request.auth\n\u001B[32m    480\u001B[39m \u001B[38;5;28;01mif\u001B[39;00m \u001B[38;5;28mself\u001B[39m.trust_env \u001B[38;5;129;01mand\u001B[39;00m \u001B[38;5;129;01mnot\u001B[39;00m auth \u001B[38;5;129;01mand\u001B[39;00m \u001B[38;5;129;01mnot\u001B[39;00m \u001B[38;5;28mself\u001B[39m.auth:\n\u001B[32m--> \u001B[39m\u001B[32m481\u001B[39m     auth = \u001B[43mget_netrc_auth\u001B[49m\u001B[43m(\u001B[49m\u001B[43mrequest\u001B[49m\u001B[43m.\u001B[49m\u001B[43murl\u001B[49m\u001B[43m)\u001B[49m\n\u001B[32m    483\u001B[39m p = PreparedRequest()\n\u001B[32m    484\u001B[39m p.prepare(\n\u001B[32m    485\u001B[39m     method=request.method.upper(),\n\u001B[32m    486\u001B[39m     url=request.url,\n\u001B[32m   (...)\u001B[39m\u001B[32m    496\u001B[39m     hooks=merge_hooks(request.hooks, \u001B[38;5;28mself\u001B[39m.hooks),\n\u001B[32m    497\u001B[39m )\n",
      "\u001B[36mFile \u001B[39m\u001B[32m~/Projects/CU/2110572-NLP-Systems/OfficeBuddyPrime_LLMAgentic/venv/lib/python3.11/site-packages/requests/utils.py:245\u001B[39m, in \u001B[36mget_netrc_auth\u001B[39m\u001B[34m(url, raise_errors)\u001B[39m\n\u001B[32m    242\u001B[39m host = ri.netloc.split(splitstr)[\u001B[32m0\u001B[39m]\n\u001B[32m    244\u001B[39m \u001B[38;5;28;01mtry\u001B[39;00m:\n\u001B[32m--> \u001B[39m\u001B[32m245\u001B[39m     _netrc = \u001B[43mnetrc\u001B[49m\u001B[43m(\u001B[49m\u001B[43mnetrc_path\u001B[49m\u001B[43m)\u001B[49m.authenticators(host)\n\u001B[32m    246\u001B[39m     \u001B[38;5;28;01mif\u001B[39;00m _netrc:\n\u001B[32m    247\u001B[39m         \u001B[38;5;66;03m# Return with login / password\u001B[39;00m\n\u001B[32m    248\u001B[39m         login_i = \u001B[32m0\u001B[39m \u001B[38;5;28;01mif\u001B[39;00m _netrc[\u001B[32m0\u001B[39m] \u001B[38;5;28;01melse\u001B[39;00m \u001B[32m1\u001B[39m\n",
      "\u001B[36mFile \u001B[39m\u001B[32m/opt/homebrew/anaconda3/lib/python3.11/netrc.py:74\u001B[39m, in \u001B[36mnetrc.__init__\u001B[39m\u001B[34m(self, file)\u001B[39m\n\u001B[32m     72\u001B[39m \u001B[38;5;28mself\u001B[39m.macros = {}\n\u001B[32m     73\u001B[39m \u001B[38;5;28;01mtry\u001B[39;00m:\n\u001B[32m---> \u001B[39m\u001B[32m74\u001B[39m     \u001B[38;5;28;01mwith\u001B[39;00m \u001B[38;5;28;43mopen\u001B[39;49m\u001B[43m(\u001B[49m\u001B[43mfile\u001B[49m\u001B[43m,\u001B[49m\u001B[43m \u001B[49m\u001B[43mencoding\u001B[49m\u001B[43m=\u001B[49m\u001B[33;43m\"\u001B[39;49m\u001B[33;43mutf-8\u001B[39;49m\u001B[33;43m\"\u001B[39;49m\u001B[43m)\u001B[49m \u001B[38;5;28;01mas\u001B[39;00m fp:\n\u001B[32m     75\u001B[39m         \u001B[38;5;28mself\u001B[39m._parse(file, fp, default_netrc)\n\u001B[32m     76\u001B[39m \u001B[38;5;28;01mexcept\u001B[39;00m \u001B[38;5;167;01mUnicodeDecodeError\u001B[39;00m:\n",
      "\u001B[36mFile \u001B[39m\u001B[32m<frozen codecs>:309\u001B[39m, in \u001B[36m__init__\u001B[39m\u001B[34m(self, errors)\u001B[39m\n",
      "\u001B[31mKeyboardInterrupt\u001B[39m: "
     ]
    }
   ],
   "execution_count": 9
  },
  {
   "cell_type": "code",
   "id": "2737a949c000eb5d",
   "metadata": {
    "ExecuteTime": {
     "end_time": "2025-04-20T18:45:24.576429Z",
     "start_time": "2025-04-20T18:45:24.555105Z"
    }
   },
   "source": "df = pd.DataFrame(data)",
   "outputs": [],
   "execution_count": 27
  },
  {
   "metadata": {
    "ExecuteTime": {
     "end_time": "2025-04-20T18:47:24.335856Z",
     "start_time": "2025-04-20T18:47:24.326141Z"
    }
   },
   "cell_type": "code",
   "source": "df['question']",
   "id": "ff7097f0659b0b54",
   "outputs": [
    {
     "data": {
      "text/plain": [
       "0               ใครมีหน้าที่เสียภาษีเงินได้บุคคลธรรมดา?\n",
       "1     เมื่อมีเงินได้เกิดขึ้นแล้ว ผู้มีหน้าที่เสียภาษ...\n",
       "2                       เงินได้อะไรบ้างที่ต้องเสียภาษี?\n",
       "3     ผู้ที่มีเงินได้เกิดขึ้นในระหว่างปีภาษีมีหน้าที...\n",
       "4     เงินได้อันเป็นเหตุให้ต้องนำไปรวมคำนวณภาษีมาจาก...\n",
       "5                       ประเภทเงินรายได้ที่ต้องเสียภาษี\n",
       "6     วิธีการคำนวณภาษีเงินได้บุคคลธรรมดาสิ้นปีจะต้อง...\n",
       "7     เงินได้พึงประเมินแต่ละกรณีจะคำนวณหักค่าใช้จ่าย...\n",
       "8     ผู้มีเงินได้มีหน้าที่ต้องยื่นแบบแสดงรายการภาษี...\n",
       "9                           การชำระภาษีด้วยวิธีใดบ้าง ?\n",
       "10    ถ้าไม่ชำระในกำหนดเวลาหรือชำระไม่ถูกต้องจะมีควา...\n",
       "11                  การบริจาคเงินภาษีให้แก่พรรคการเมือง\n",
       "12    หากยื่นแบบแล้วมีภาษีต้องชำระจะขอผ่อนชำระภาษีได...\n",
       "13                                                     \n",
       "14          กรณีหักลดหย่อนค่าอุปการะเลี้ยงดูบิดามารดา\n",
       "Name: question, dtype: object"
      ]
     },
     "execution_count": 30,
     "metadata": {},
     "output_type": "execute_result"
    }
   ],
   "execution_count": 30
  },
  {
   "metadata": {},
   "cell_type": "code",
   "outputs": [],
   "execution_count": null,
   "source": "",
   "id": "cf34a5bcd9430a0b"
  }
 ],
 "metadata": {
  "kernelspec": {
   "display_name": "venv",
   "language": "python",
   "name": "python3"
  },
  "language_info": {
   "codemirror_mode": {
    "name": "ipython",
    "version": 3
   },
   "file_extension": ".py",
   "mimetype": "text/x-python",
   "name": "python",
   "nbconvert_exporter": "python",
   "pygments_lexer": "ipython3",
   "version": "3.11.11"
  }
 },
 "nbformat": 4,
 "nbformat_minor": 5
}
